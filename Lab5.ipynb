{
  "cells": [
    {
      "cell_type": "code",
      "execution_count": 8,
      "metadata": {
        "colab": {
          "base_uri": "https://localhost:8080/"
        },
        "id": "f3H3GskLhLb8",
        "outputId": "6064430c-274c-4626-ab0b-f32e65d7ef2f"
      },
      "outputs": [
        {
          "name": "stderr",
          "output_type": "stream",
          "text": [
            "[nltk_data] Downloading package punkt to /root/nltk_data...\n",
            "[nltk_data]   Package punkt is already up-to-date!\n",
            "[nltk_data] Downloading package stopwords to /root/nltk_data...\n",
            "[nltk_data]   Package stopwords is already up-to-date!\n"
          ]
        },
        {
          "data": {
            "text/plain": [
              "True"
            ]
          },
          "execution_count": 8,
          "metadata": {},
          "output_type": "execute_result"
        }
      ],
      "source": [
        "import nltk\n",
        "nltk.data.path.append('/root/nltk_data')  # Add this if needed\n",
        "nltk.download('punkt', download_dir='/root/nltk_data')\n",
        "nltk.download('stopwords', download_dir='/root/nltk_data')\n"
      ]
    },
    {
      "cell_type": "code",
      "execution_count": 9,
      "metadata": {},
      "outputs": [],
      "source": [
        "import pandas as pd\n",
        "import numpy as np\n",
        "import matplotlib.pyplot as plt\n",
        "import seaborn as sns\n",
        "import re\n",
        "from nltk.corpus import stopwords\n",
        "from nltk.stem import PorterStemmer\n",
        "from sklearn.model_selection import train_test_split\n",
        "from sklearn.feature_extraction.text import TfidfVectorizer\n",
        "from sklearn.linear_model import LogisticRegression\n",
        "from sklearn.metrics import accuracy_score, classification_report"
      ]
    },
    {
      "cell_type": "code",
      "execution_count": 10,
      "metadata": {},
      "outputs": [
        {
          "name": "stdout",
          "output_type": "stream",
          "text": [
            "       textID                                               text sentiment  \\\n",
            "0  f87dea47db  Last session of the day  http://twitpic.com/67ezh   neutral   \n",
            "1  96d74cb729   Shanghai is also really exciting (precisely -...  positive   \n",
            "2  eee518ae67  Recession hit Veronique Branquinho, she has to...  negative   \n",
            "3  01082688c6                                        happy bday!  positive   \n",
            "4  33987a8ee5             http://twitpic.com/4w75p - I like it!!  positive   \n",
            "\n",
            "  Time of Tweet Age of User      Country  Population -2020  Land Area (Km²)  \\\n",
            "0       morning        0-20  Afghanistan        38928346.0         652860.0   \n",
            "1          noon       21-30      Albania         2877797.0          27400.0   \n",
            "2         night       31-45      Algeria        43851044.0        2381740.0   \n",
            "3       morning       46-60      Andorra           77265.0            470.0   \n",
            "4          noon       60-70       Angola        32866272.0        1246700.0   \n",
            "\n",
            "   Density (P/Km²)  \n",
            "0             60.0  \n",
            "1            105.0  \n",
            "2             18.0  \n",
            "3            164.0  \n",
            "4             26.0  \n",
            "sentiment\n",
            "neutral     1430\n",
            "positive    1103\n",
            "negative    1001\n",
            "Name: count, dtype: int64\n"
          ]
        }
      ],
      "source": [
        "import pandas as pd\n",
        "\n",
        "# Load dataset\n",
        "path = \"E:\\\\codeforces\\\\test.csv\"  \n",
        "df = pd.read_csv(path, encoding='latin1')\n",
        "\n",
        "# Handle missing values\n",
        "df.dropna(subset=['text', 'sentiment'], inplace=True)  \n",
        "df['text'] = df['text'].astype(str)  \n",
        "\n",
        "print(df.head())\n",
        "print(df['sentiment'].value_counts())"
      ]
    },
    {
      "cell_type": "code",
      "execution_count": 11,
      "metadata": {},
      "outputs": [],
      "source": [
        "# Preprocessing function\n",
        "def clean_text(text):\n",
        "    text = text.lower()\n",
        "    text = re.sub(r'http\\S+', '', text)  # Remove URLs\n",
        "    text = re.sub(r'[^a-zA-Z0-9\\s]', '', text)  # Remove special characters\n",
        "    tokens = re.findall(r'\\b\\w+\\b', text)  # Tokenization\n",
        "    tokens = [word for word in tokens if word not in stopwords.words('english')]\n",
        "    ps = PorterStemmer()\n",
        "    tokens = [ps.stem(word) for word in tokens]\n",
        "    return \" \".join(tokens)\n",
        "\n",
        "df['cleaned_text'] = df['text'].apply(clean_text)"
      ]
    },
    {
      "cell_type": "code",
      "execution_count": 12,
      "metadata": {},
      "outputs": [
        {
          "data": {
            "image/png": "[encoded data removed]",
            "text/plain": [
              "<Figure size 640x480 with 1 Axes>"
            ]
          },
          "metadata": {},
          "output_type": "display_data"
        }
      ],
      "source": [
        "# Convert labels to numeric\n",
        "df['sentiment'] = df['sentiment'].map({'positive': 1, 'neutral': 0, 'negative': -1})\n",
        "\n",
        "# Visualizing Sentiment Distribution\n",
        "sns.countplot(x=df['sentiment'])\n",
        "plt.title(\"Sentiment Distribution\")\n",
        "plt.xlabel(\"Sentiment\")\n",
        "plt.ylabel(\"Count\")\n",
        "plt.show()"
      ]
    },
    {
      "cell_type": "code",
      "execution_count": 13,
      "metadata": {
        "colab": {
          "base_uri": "https://localhost:8080/",
          "height": 1000
        },
        "id": "Mn0oEjg8gjzZ",
        "outputId": "31746aed-fa16-4b32-b831-11cacbda1b37"
      },
      "outputs": [
        {
          "name": "stdout",
          "output_type": "stream",
          "text": [
            "Accuracy: 0.6449787835926449\n",
            "              precision    recall  f1-score   support\n",
            "\n",
            "          -1       0.74      0.53      0.62       207\n",
            "           0       0.57      0.73      0.64       286\n",
            "           1       0.71      0.64      0.67       214\n",
            "\n",
            "    accuracy                           0.64       707\n",
            "   macro avg       0.67      0.63      0.64       707\n",
            "weighted avg       0.66      0.64      0.64       707\n",
            "\n"
          ]
        }
      ],
      "source": [
        "# Splitting data\n",
        "X_train, X_test, y_train, y_test = train_test_split(df['cleaned_text'], df['sentiment'], test_size=0.2, random_state=42)\n",
        "\n",
        "# Vectorizing text\n",
        "vectorizer = TfidfVectorizer()\n",
        "X_train_vect = vectorizer.fit_transform(X_train)\n",
        "X_test_vect = vectorizer.transform(X_test)\n",
        "\n",
        "# Model Training\n",
        "model = LogisticRegression()\n",
        "model.fit(X_train_vect, y_train)\n",
        "\n",
        "# Predictions\n",
        "y_pred = model.predict(X_test_vect)\n",
        "print(\"Accuracy:\", accuracy_score(y_test, y_pred))\n",
        "print(classification_report(y_test, y_pred))"
      ]
    },
    {
      "cell_type": "code",
      "execution_count": 15,
      "metadata": {
        "colab": {
          "base_uri": "https://localhost:8080/"
        },
        "id": "u8X2fKfZjDsK",
        "outputId": "ae7f39a0-382d-4d7c-852e-c92b9d505d0f"
      },
      "outputs": [
        {
          "name": "stdout",
          "output_type": "stream",
          "text": [
            "Predicted Sentiment: Positive\n"
          ]
        }
      ],
      "source": [
        "# Function for sentiment prediction\n",
        "def predict_sentiment(text):\n",
        "    cleaned_text = clean_text(text)\n",
        "    vectorized_text = vectorizer.transform([cleaned_text])\n",
        "    sentiment = model.predict(vectorized_text)[0]\n",
        "    sentiment_label = {1: 'Positive', 0: 'Neutral', -1: 'Negative'}\n",
        "    return sentiment_label[sentiment]\n",
        "\n",
        "# Example Usage\n",
        "user_input = input(\"Enter a phrase to analyze sentiment: \")\n",
        "print(\"Predicted Sentiment:\", predict_sentiment(user_input))"
      ]
    }
  ],
  "metadata": {
    "colab": {
      "provenance": []
    },
    "kernelspec": {
      "display_name": "venv",
      "language": "python",
      "name": "python3"
    },
    "language_info": {
      "codemirror_mode": {
        "name": "ipython",
        "version": 3
      },
      "file_extension": ".py",
      "mimetype": "text/x-python",
      "name": "python",
      "nbconvert_exporter": "python",
      "pygments_lexer": "ipython3",
      "version": "3.12.4"
    }
  },
  "nbformat": 4,
  "nbformat_minor": 0
}

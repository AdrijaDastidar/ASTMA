{
 "cells": [
  {
   "cell_type": "code",
   "execution_count": 12,
   "id": "b1a05562",
   "metadata": {},
   "outputs": [
    {
     "name": "stdout",
     "output_type": "stream",
     "text": [
      "\n",
      "a mango is an edible stone fruit produced by the tropical tree mangifera indica.\n",
      "\n"
     ]
    }
   ],
   "source": [
    "# Sample text\n",
    "sample_text = '''\n",
    "A mango is an edible stone fruit produced by the tropical tree Mangifera indica.\n",
    "'''\n",
    "\n",
    "# Convert to lowercase\n",
    "lower_case = sample_text.lower()\n",
    "print(lower_case)"
   ]
  },
  {
   "cell_type": "code",
   "execution_count": 13,
   "id": "a4ae2f66",
   "metadata": {},
   "outputs": [
    {
     "name": "stdout",
     "output_type": "stream",
     "text": [
      "\n",
      "a mango is an edible stone fruit produced by the tropical tree mangifera indica\n",
      "\n"
     ]
    },
    {
     "name": "stderr",
     "output_type": "stream",
     "text": [
      "<>:2: SyntaxWarning: invalid escape sequence '\\,'\n",
      "<>:2: SyntaxWarning: invalid escape sequence '\\,'\n",
      "C:\\Users\\hp\\AppData\\Local\\Temp\\ipykernel_22212\\2138453369.py:2: SyntaxWarning: invalid escape sequence '\\,'\n",
      "  punctuations = '''!()-[]{};:'\"\\,<>./?@#$%^&*_~'''\n"
     ]
    }
   ],
   "source": [
    "# Remove punctuation\n",
    "punctuations = '''!()-[]{};:'\"\\,<>./?@#$%^&*_~'''\n",
    "no_punct = \"\"\n",
    "for char in lower_case:\n",
    "    if char not in punctuations:\n",
    "        no_punct += char\n",
    "print(no_punct)"
   ]
  },
  {
   "cell_type": "code",
   "execution_count": 14,
   "id": "8af57ec9",
   "metadata": {},
   "outputs": [
    {
     "name": "stdout",
     "output_type": "stream",
     "text": [
      "['a', 'mango', 'is', 'an', 'edible', 'stone', 'fruit', 'produced', 'by', 'the', 'tropical', 'tree', 'mangifera', 'indica']\n"
     ]
    }
   ],
   "source": [
    "# Tokenize using split\n",
    "tokens = no_punct.split()\n",
    "print(tokens)"
   ]
  },
  {
   "cell_type": "code",
   "execution_count": 15,
   "id": "654641e6",
   "metadata": {},
   "outputs": [
    {
     "name": "stdout",
     "output_type": "stream",
     "text": [
      "['a', 'about', 'above', 'after', 'again', 'against', 'ain', 'all', 'am', 'an', 'and', 'any', 'are', 'aren', \"aren't\", 'as', 'at', 'be', 'because', 'been', 'before', 'being', 'below', 'between', 'both', 'but', 'by', 'can', 'couldn', \"couldn't\", 'd', 'did', 'didn', \"didn't\", 'do', 'does', 'doesn', \"doesn't\", 'doing', 'don', \"don't\", 'down', 'during', 'each', 'few', 'for', 'from', 'further', 'had', 'hadn', \"hadn't\", 'has', 'hasn', \"hasn't\", 'have', 'haven', \"haven't\", 'having', 'he', \"he'd\", \"he'll\", 'her', 'here', 'hers', 'herself', \"he's\", 'him', 'himself', 'his', 'how', 'i', \"i'd\", 'if', \"i'll\", \"i'm\", 'in', 'into', 'is', 'isn', \"isn't\", 'it', \"it'd\", \"it'll\", \"it's\", 'its', 'itself', \"i've\", 'just', 'll', 'm', 'ma', 'me', 'mightn', \"mightn't\", 'more', 'most', 'mustn', \"mustn't\", 'my', 'myself', 'needn', \"needn't\", 'no', 'nor', 'not', 'now', 'o', 'of', 'off', 'on', 'once', 'only', 'or', 'other', 'our', 'ours', 'ourselves', 'out', 'over', 'own', 're', 's', 'same', 'shan', \"shan't\", 'she', \"she'd\", \"she'll\", \"she's\", 'should', 'shouldn', \"shouldn't\", \"should've\", 'so', 'some', 'such', 't', 'than', 'that', \"that'll\", 'the', 'their', 'theirs', 'them', 'themselves', 'then', 'there', 'these', 'they', \"they'd\", \"they'll\", \"they're\", \"they've\", 'this', 'those', 'through', 'to', 'too', 'under', 'until', 'up', 've', 'very', 'was', 'wasn', \"wasn't\", 'we', \"we'd\", \"we'll\", \"we're\", 'were', 'weren', \"weren't\", \"we've\", 'what', 'when', 'where', 'which', 'while', 'who', 'whom', 'why', 'will', 'with', 'won', \"won't\", 'wouldn', \"wouldn't\", 'y', 'you', \"you'd\", \"you'll\", 'your', \"you're\", 'yours', 'yourself', 'yourselves', \"you've\", 'work']\n"
     ]
    },
    {
     "name": "stderr",
     "output_type": "stream",
     "text": [
      "[nltk_data] Downloading package stopwords to\n",
      "[nltk_data]     C:\\Users\\hp\\AppData\\Roaming\\nltk_data...\n",
      "[nltk_data]   Package stopwords is already up-to-date!\n"
     ]
    }
   ],
   "source": [
    "import nltk\n",
    "from nltk.corpus import stopwords\n",
    "nltk.download('stopwords')\n",
    "\n",
    "# Load stopwords and add custom ones\n",
    "stop_words = stopwords.words('english')\n",
    "stop_words.append('work')\n",
    "print(stop_words)"
   ]
  },
  {
   "cell_type": "code",
   "execution_count": 16,
   "id": "88c46fe8",
   "metadata": {},
   "outputs": [
    {
     "name": "stdout",
     "output_type": "stream",
     "text": [
      "['mango', 'edible', 'stone', 'fruit', 'produced', 'tropical', 'tree', 'mangifera', 'indica', 'originated', 'india', 'indica', 'cultivated', 'south', 'southeast', 'asia', 'since', 'ancient', 'times']\n"
     ]
    }
   ],
   "source": [
    "import string\n",
    "\n",
    "def text_preprocessing_pipeline(text):\n",
    "    text = text.lower()\n",
    "    text = text.translate(str.maketrans(\"\", \"\", string.punctuation))\n",
    "    tokens = text.split()\n",
    "    stop_words = set(stopwords.words('english'))\n",
    "    filtered_tokens = [word for word in tokens if word not in stop_words]\n",
    "    return filtered_tokens\n",
    "\n",
    "# Run pipeline\n",
    "sample_text = '''\n",
    "A mango is an edible stone fruit produced by the tropical tree Mangifera indica. It originated in India.\n",
    "M. indica has been cultivated in South and Southeast Asia since ancient times.\n",
    "'''\n",
    "processed_tokens = text_preprocessing_pipeline(sample_text)\n",
    "print(processed_tokens)"
   ]
  },
  {
   "cell_type": "code",
   "execution_count": 17,
   "id": "0e7af1f9",
   "metadata": {},
   "outputs": [
    {
     "name": "stdout",
     "output_type": "stream",
     "text": [
      "  Customer_ID  City\n",
      "0         ABC  Pune\n",
      "2         GHI  Pune\n"
     ]
    }
   ],
   "source": [
    "# Text Filtering using Pandas\n",
    "import pandas as pd\n",
    "\n",
    "data = {\n",
    "    'Customer_ID': ['ABC', 'DEF', 'GHI'],\n",
    "    'City': ['Pune', 'Mumbai', 'Pune']\n",
    "}\n",
    "df = pd.DataFrame(data)\n",
    "criteria = ['Pune']\n",
    "filtered_df = df[df['City'].isin(criteria)]\n",
    "print(filtered_df)"
   ]
  },
  {
   "cell_type": "code",
   "execution_count": 18,
   "id": "6a65aa34",
   "metadata": {},
   "outputs": [
    {
     "name": "stdout",
     "output_type": "stream",
     "text": [
      "Script Valid\n"
     ]
    }
   ],
   "source": [
    "# Script Validation\n",
    "paragraph = \"\"\"\n",
    "A mango is an edible stone fruit produced by the tropical tree Mangifera indica.\n",
    "M. indica has been cultivated in South and Southeast Asia since ancient times.\n",
    "\"\"\"\n",
    "\n",
    "def validate_script(script):\n",
    "    if script.lower() in paragraph.lower():\n",
    "        print('Script Valid')\n",
    "    else:\n",
    "        print('Script Not Valid')\n",
    "\n",
    "user_input = input(\"Enter a keyword from the paragraph: \")\n",
    "validate_script(user_input)"
   ]
  }
 ],
 "metadata": {
  "kernelspec": {
   "display_name": "venv",
   "language": "python",
   "name": "python3"
  },
  "language_info": {
   "codemirror_mode": {
    "name": "ipython",
    "version": 3
   },
   "file_extension": ".py",
   "mimetype": "text/x-python",
   "name": "python",
   "nbconvert_exporter": "python",
   "pygments_lexer": "ipython3",
   "version": "3.12.4"
  }
 },
 "nbformat": 4,
 "nbformat_minor": 5
}

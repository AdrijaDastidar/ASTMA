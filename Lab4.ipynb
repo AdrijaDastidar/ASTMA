{
 "cells": [
  {
   "cell_type": "code",
   "execution_count": 1,
   "id": "7b00a821",
   "metadata": {},
   "outputs": [
    {
     "name": "stdout",
     "output_type": "stream",
     "text": [
      "Collecting textblob\n",
      "  Downloading textblob-0.19.0-py3-none-any.whl.metadata (4.4 kB)\n",
      "Requirement already satisfied: pandas in .\\venv\\lib\\site-packages (2.2.3)\n",
      "Collecting openpyxl\n",
      "  Downloading openpyxl-3.1.5-py2.py3-none-any.whl.metadata (2.5 kB)\n",
      "Requirement already satisfied: nltk in .\\venv\\lib\\site-packages (3.9.1)\n",
      "Requirement already satisfied: numpy>=1.26.0 in .\\venv\\lib\\site-packages (from pandas) (2.2.5)\n",
      "Requirement already satisfied: python-dateutil>=2.8.2 in .\\venv\\lib\\site-packages (from pandas) (2.9.0.post0)\n",
      "Requirement already satisfied: pytz>=2020.1 in .\\venv\\lib\\site-packages (from pandas) (2025.2)\n",
      "Requirement already satisfied: tzdata>=2022.7 in .\\venv\\lib\\site-packages (from pandas) (2025.2)\n",
      "Collecting et-xmlfile (from openpyxl)\n",
      "  Downloading et_xmlfile-2.0.0-py3-none-any.whl.metadata (2.7 kB)\n",
      "Requirement already satisfied: click in .\\venv\\lib\\site-packages (from nltk) (8.1.8)\n",
      "Requirement already satisfied: joblib in .\\venv\\lib\\site-packages (from nltk) (1.4.2)\n",
      "Requirement already satisfied: regex>=2021.8.3 in .\\venv\\lib\\site-packages (from nltk) (2024.11.6)\n",
      "Requirement already satisfied: tqdm in .\\venv\\lib\\site-packages (from nltk) (4.67.1)\n",
      "Requirement already satisfied: six>=1.5 in .\\venv\\lib\\site-packages (from python-dateutil>=2.8.2->pandas) (1.17.0)\n",
      "Requirement already satisfied: colorama in .\\venv\\lib\\site-packages (from click->nltk) (0.4.6)\n",
      "Downloading textblob-0.19.0-py3-none-any.whl (624 kB)\n",
      "   ---------------------------------------- 0.0/624.3 kB ? eta -:--:--\n",
      "   --------------------------------- ------ 524.3/624.3 kB 5.6 MB/s eta 0:00:01\n",
      "   ---------------------------------------- 624.3/624.3 kB 3.3 MB/s eta 0:00:00\n",
      "Downloading openpyxl-3.1.5-py2.py3-none-any.whl (250 kB)\n",
      "Downloading et_xmlfile-2.0.0-py3-none-any.whl (18 kB)\n",
      "Installing collected packages: et-xmlfile, openpyxl, textblob\n",
      "Successfully installed et-xmlfile-2.0.0 openpyxl-3.1.5 textblob-0.19.0\n"
     ]
    }
   ],
   "source": [
    "!pip install textblob pandas openpyxl nltk"
   ]
  },
  {
   "cell_type": "code",
   "execution_count": 2,
   "id": "a56efe3b",
   "metadata": {},
   "outputs": [],
   "source": [
    "import pandas as pd\n",
    "import re\n",
    "from textblob import TextBlob\n"
   ]
  },
  {
   "cell_type": "code",
   "execution_count": 3,
   "id": "b4d2ed16",
   "metadata": {},
   "outputs": [
    {
     "name": "stderr",
     "output_type": "stream",
     "text": [
      "<>:1: SyntaxWarning: invalid escape sequence '\\c'\n",
      "<>:1: SyntaxWarning: invalid escape sequence '\\c'\n",
      "C:\\Users\\hp\\AppData\\Local\\Temp\\ipykernel_39184\\2568550856.py:1: SyntaxWarning: invalid escape sequence '\\c'\n",
      "  file_path = \"E:\\codeforces\\social_media_engagement_data.xlsx\"  # Update this path if necessary\n"
     ]
    }
   ],
   "source": [
    "file_path = \"E:\\codeforces\\social_media_engagement_data.xlsx\"  # Update this path if necessary\n",
    "df = pd.read_excel(file_path, sheet_name=\"social_media_engagement_data\")\n"
   ]
  },
  {
   "cell_type": "code",
   "execution_count": 4,
   "id": "097a32ce",
   "metadata": {},
   "outputs": [],
   "source": [
    "df_sentiment = df[['Platform', 'Post Content']].dropna()  # Remove rows with empty text\n"
   ]
  },
  {
   "cell_type": "code",
   "execution_count": 5,
   "id": "805a25d6",
   "metadata": {},
   "outputs": [],
   "source": [
    "def clean_text(text):\n",
    "    text = str(text).lower()\n",
    "    text = re.sub(r\"http\\S+|www\\S+|https\\S+\", '', text, flags=re.MULTILINE)\n",
    "    text = re.sub(r'@\\w+|#', '', text)\n",
    "    text = re.sub(r'[^A-Za-z0-9 ]+', '', text)\n",
    "    return text\n"
   ]
  },
  {
   "cell_type": "code",
   "execution_count": 6,
   "id": "17029ac0",
   "metadata": {},
   "outputs": [],
   "source": [
    "df_sentiment['Cleaned Content'] = df_sentiment['Post Content'].apply(clean_text)\n"
   ]
  },
  {
   "cell_type": "code",
   "execution_count": 7,
   "id": "565197df",
   "metadata": {},
   "outputs": [],
   "source": [
    "def get_sentiment(text):\n",
    "    analysis = TextBlob(text)\n",
    "    polarity = analysis.sentiment.polarity\n",
    "    if polarity > 0:\n",
    "        return 'Positive'\n",
    "    elif polarity < 0:\n",
    "        return 'Negative'\n",
    "    else:\n",
    "        return 'Neutral'\n"
   ]
  },
  {
   "cell_type": "code",
   "execution_count": 8,
   "id": "7336aa95",
   "metadata": {},
   "outputs": [],
   "source": [
    "df_sentiment['Sentiment'] = df_sentiment['Cleaned Content'].apply(get_sentiment)\n"
   ]
  },
  {
   "cell_type": "code",
   "execution_count": 9,
   "id": "bf890698",
   "metadata": {},
   "outputs": [],
   "source": [
    "df_sentiment.to_excel(\"sentiment_analysis_results.xlsx\", index=False)\n"
   ]
  },
  {
   "cell_type": "code",
   "execution_count": 10,
   "id": "db010229",
   "metadata": {},
   "outputs": [
    {
     "name": "stdout",
     "output_type": "stream",
     "text": [
      "    Platform                                       Post Content  \\\n",
      "0   LinkedIn                     Want that according same wish.   \n",
      "1  Instagram                       Increase fast partner south.   \n",
      "2  Instagram         Lawyer behavior born window couple sister.   \n",
      "3    Twitter                          Street great decade must.   \n",
      "4   Facebook  At clear meeting with reason ground continue c...   \n",
      "\n",
      "                                     Cleaned Content Sentiment  \n",
      "0                      want that according same wish   Neutral  \n",
      "1                        increase fast partner south  Positive  \n",
      "2          lawyer behavior born window couple sister   Neutral  \n",
      "3                           street great decade must  Positive  \n",
      "4  at clear meeting with reason ground continue c...  Positive  \n"
     ]
    }
   ],
   "source": [
    "print(df_sentiment.head())\n"
   ]
  },
  {
   "cell_type": "code",
   "execution_count": 20,
   "id": "73bcbcba",
   "metadata": {},
   "outputs": [
    {
     "name": "stderr",
     "output_type": "stream",
     "text": [
      "[nltk_data] Downloading package vader_lexicon to\n",
      "[nltk_data]     C:\\Users\\hp\\AppData\\Roaming\\nltk_data...\n",
      "[nltk_data]   Package vader_lexicon is already up-to-date!\n"
     ]
    }
   ],
   "source": [
    "import nltk\n",
    "import spacy\n",
    "from nltk.sentiment import SentimentIntensityAnalyzer\n",
    "\n",
    "# Download necessary resources - python -m spacy download en_core_web_sm\n",
    "\n",
    "nltk.download('vader_lexicon')\n",
    "nlp = spacy.load(\"en_core_web_sm\")\n",
    "sia = SentimentIntensityAnalyzer()"
   ]
  },
  {
   "cell_type": "code",
   "execution_count": 22,
   "id": "e18d89d3",
   "metadata": {},
   "outputs": [],
   "source": [
    "def analyze_sentiment(text):\n",
    "    \"\"\"Analyze sentiment using VADER.\"\"\"\n",
    "    sentiment_scores = sia.polarity_scores(text)\n",
    "    if sentiment_scores['compound'] >= 0.05:\n",
    "        return \"Positive\"\n",
    "    elif sentiment_scores['compound'] <= -0.05:\n",
    "\n",
    "        return \"Negative\"\n",
    "    else:\n",
    "        return \"Neutral\""
   ]
  },
  {
   "cell_type": "code",
   "execution_count": 23,
   "id": "89a0af52",
   "metadata": {},
   "outputs": [],
   "source": [
    "def apply_ner_tagging(text):\n",
    "    \"\"\"Apply Named Entity Recognition (NER) tagging using spaCy.\"\"\"\n",
    "    doc = nlp(text)\n",
    "    entities = [(ent.text, ent.label_) for ent in doc.ents]\n",
    "    return entities"
   ]
  },
  {
   "cell_type": "code",
   "execution_count": 24,
   "id": "59d8f024",
   "metadata": {},
   "outputs": [],
   "source": [
    "social_text = \"i will kill you\"\n",
    "\n",
    "sentiment = analyze_sentiment(social_text)\n",
    "entities = apply_ner_tagging(social_text)"
   ]
  },
  {
   "cell_type": "code",
   "execution_count": 25,
   "id": "99084ba0",
   "metadata": {},
   "outputs": [
    {
     "name": "stdout",
     "output_type": "stream",
     "text": [
      "Sentiment: Negative\n",
      "Entities: []\n"
     ]
    }
   ],
   "source": [
    "print(f\"Sentiment: {sentiment}\")\n",
    "print(\"Entities:\", entities)"
   ]
  }
 ],
 "metadata": {
  "kernelspec": {
   "display_name": "venv",
   "language": "python",
   "name": "python3"
  },
  "language_info": {
   "codemirror_mode": {
    "name": "ipython",
    "version": 3
   },
   "file_extension": ".py",
   "mimetype": "text/x-python",
   "name": "python",
   "nbconvert_exporter": "python",
   "pygments_lexer": "ipython3",
   "version": "3.12.4"
  }
 },
 "nbformat": 4,
 "nbformat_minor": 5
}
